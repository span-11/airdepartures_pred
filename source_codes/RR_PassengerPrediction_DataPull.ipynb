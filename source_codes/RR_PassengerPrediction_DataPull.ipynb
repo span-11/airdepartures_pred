{
 "cells": [
  {
   "cell_type": "code",
   "execution_count": 1,
   "id": "3b735700",
   "metadata": {},
   "outputs": [],
   "source": [
    "import pandas as pd\n",
    "import numpy as np\n",
    "import wbgapi as wb"
   ]
  },
  {
   "cell_type": "code",
   "execution_count": 2,
   "id": "2bf51d80",
   "metadata": {
    "scrolled": false
   },
   "outputs": [],
   "source": [
    "input_df=wb.data.DataFrame(['IT.MLT.MAIN','SP.URB.TOTL','SP.RUR.TOTL','SP.POP.65UP.MA.IN','SP.POP.65UP.TO','SP.POP.65UP.FE.IN','SP.POP.1564.TO','SP.POP.1564.MA.IN','SP.POP.1564.FE.IN','SP.POP.0014.MA.IN','SP.POP.0014.TO','SP.POP.0014.FE.IN','NV.AGR.TOTL.CD','NV.IND.TOTL.CD','NV.IND.MANF.CD','NV.SRV.TOTL.CD','IT.CEL.SETS','IT.NET.BBND','IS.AIR.DPRT'],labels=True)"
   ]
  },
  {
   "cell_type": "code",
   "execution_count": 3,
   "id": "8dca7652",
   "metadata": {},
   "outputs": [],
   "source": [
    "input_df.reset_index(drop=True,inplace=True)"
   ]
  },
  {
   "cell_type": "code",
   "execution_count": 4,
   "id": "25644571",
   "metadata": {},
   "outputs": [],
   "source": [
    "input_df.columns=list(pd.Series(input_df.columns).apply(lambda x:x[2:] if x[0:2]=='YR' else x))"
   ]
  },
  {
   "cell_type": "code",
   "execution_count": 5,
   "id": "885e1890",
   "metadata": {},
   "outputs": [],
   "source": [
    "excluded_entities=[\"Africa Eastern and Southern\",\"Africa Western and Central\",\"Arab World\",\"Caribbean small states\",\"Central Europe and the Baltics\",\"Early-demographic dividend\",\"East Asia & Pacific\",\"East Asia & Pacific (excluding high income)\",\"East Asia & Pacific (IDA & IBRD countries)\",\"Euro area\",\"Europe & Central Asia\",\"Europe & Central Asia (excluding high income)\",\"Europe & Central Asia (IDA & IBRD countries)\",\"European Union\",\"Fragile and conflict affected situations\",\"Heavily indebted poor countries (HIPC)\",\"High income\",\"IBRD only\",\"IDA & IBRD total\",\"IDA blend\",\"IDA only\",\"IDA total\",\"Late-demographic dividend\",\"Latin America & Caribbean\",\"Latin America & Caribbean (excluding high income)\",\"Latin America & the Caribbean (IDA & IBRD countries)\",\"Least developed countries: UN classification\",\"Low & middle income\",\"Low income\",\"Lower middle income\",\"Middle East & North Africa\",\"Middle East & North Africa (excluding high income)\",\"Middle East & North Africa (IDA & IBRD countries)\",\"Middle income\",\"North America\",\"Not classified\",\"OECD members\",\"Other small states\",\"Pacific island small states\",\"Post-demographic dividend\",\"Pre-demographic dividend\",\"Small states\",\"South Asia\",\"South Asia (IDA & IBRD)\",\"Sub-Saharan Africa\",\"Sub-Saharan Africa (excluding high income)\",\"Sub-Saharan Africa (IDA & IBRD countries)\",\"Upper middle income\",\"World\"]\n",
    "countries_list=list(set(input_df['Country'].unique()).difference(excluded_entities))\n",
    "countries_list.sort()"
   ]
  },
  {
   "cell_type": "code",
   "execution_count": 19,
   "id": "136ee0bf",
   "metadata": {},
   "outputs": [],
   "source": [
    "final_df=pd.DataFrame()\n",
    "sub_tbl_col_nm=list(input_df.columns.difference(['Country']))\n",
    "for country_name in countries_list:\n",
    "    init_df=input_df.loc[((input_df['Country']==country_name)),sub_tbl_col_nm].T\n",
    "    init_df.columns=init_df.iloc[-1,]\n",
    "    init_df.drop(['Series'],axis=0,inplace=True)\n",
    "    init_df=init_df.apply(lambda x:pd.to_numeric(x,downcast='float',errors='coerce'))\n",
    "    init_df['Country']=country_name\n",
    "    final_df=pd.concat([final_df,init_df],axis=0)"
   ]
  },
  {
   "cell_type": "code",
   "execution_count": 22,
   "id": "2a652774",
   "metadata": {},
   "outputs": [],
   "source": [
    "final_df.to_csv('WorldBank_Data.csv')"
   ]
  },
  {
   "cell_type": "code",
   "execution_count": null,
   "id": "e5cb3ac8",
   "metadata": {},
   "outputs": [],
   "source": []
  },
  {
   "cell_type": "code",
   "execution_count": null,
   "id": "36501f65",
   "metadata": {},
   "outputs": [],
   "source": []
  }
 ],
 "metadata": {
  "kernelspec": {
   "display_name": "Python 3 (ipykernel)",
   "language": "python",
   "name": "python3"
  },
  "language_info": {
   "codemirror_mode": {
    "name": "ipython",
    "version": 3
   },
   "file_extension": ".py",
   "mimetype": "text/x-python",
   "name": "python",
   "nbconvert_exporter": "python",
   "pygments_lexer": "ipython3",
   "version": "3.9.7"
  }
 },
 "nbformat": 4,
 "nbformat_minor": 5
}
