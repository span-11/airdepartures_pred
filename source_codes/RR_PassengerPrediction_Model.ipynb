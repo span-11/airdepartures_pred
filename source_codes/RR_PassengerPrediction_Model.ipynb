{
 "cells": [
  {
   "cell_type": "code",
   "execution_count": 1,
   "id": "3b735700",
   "metadata": {},
   "outputs": [],
   "source": [
    "import pandas as pd\n",
    "import numpy as np\n",
    "import wbgapi as wb\n",
    "import re\n",
    "from xgboost import XGBRegressor\n",
    "from lightgbm import LGBMRegressor\n",
    "from catboost import CatBoostRegressor\n",
    "from sklearn.model_selection import GridSearchCV,StratifiedKFold,train_test_split,cross_val_score\n",
    "from sklearn import metrics\n",
    "import pickle"
   ]
  },
  {
   "cell_type": "code",
   "execution_count": 2,
   "id": "2a652774",
   "metadata": {},
   "outputs": [],
   "source": [
    "final_df=pd.read_csv('WorldBank_Data.csv')"
   ]
  },
  {
   "cell_type": "code",
   "execution_count": 3,
   "id": "24f381cd",
   "metadata": {},
   "outputs": [],
   "source": [
    "final_df=final_df.loc[:,['Fixed telephone subscriptions','Urban population','Rural population','Population ages 65 and above, male','Population ages 65 and above, female', 'Population ages 15-64, female','Population ages 15-64, male', 'Population ages 0-14, male', 'Population ages 0-14, female','Agriculture, forestry, and fishing, value added (current US$)','Industry (including construction), value added (current US$)','Manufacturing, value added (current US$)','Services, value added (current US$)','Mobile cellular subscriptions','Fixed broadband subscriptions','Air transport, registered carrier departures worldwide']]"
   ]
  },
  {
   "cell_type": "code",
   "execution_count": 4,
   "id": "015c927f",
   "metadata": {},
   "outputs": [],
   "source": [
    "final_df=final_df.loc[(final_df['Air transport, registered carrier departures worldwide']>0),]"
   ]
  },
  {
   "cell_type": "code",
   "execution_count": 5,
   "id": "12418d50",
   "metadata": {},
   "outputs": [
    {
     "name": "stdout",
     "output_type": "stream",
     "text": [
      "11.38010706955218\n",
      "0.18108632636786198\n"
     ]
    }
   ],
   "source": [
    "print(final_df['Air transport, registered carrier departures worldwide'].skew())\n",
    "print(np.log(final_df['Air transport, registered carrier departures worldwide']+1).skew())"
   ]
  },
  {
   "cell_type": "code",
   "execution_count": 6,
   "id": "48cae471",
   "metadata": {},
   "outputs": [],
   "source": [
    "# Transforming the target variable to make it a more normal distributiob\n",
    "final_df['Ln_Y']=np.log(final_df['Air transport, registered carrier departures worldwide']+1)"
   ]
  },
  {
   "cell_type": "code",
   "execution_count": 7,
   "id": "16363b42",
   "metadata": {},
   "outputs": [
    {
     "data": {
      "text/plain": [
       "(7443, 17)"
      ]
     },
     "execution_count": 7,
     "metadata": {},
     "output_type": "execute_result"
    }
   ],
   "source": [
    "final_df.shape"
   ]
  },
  {
   "cell_type": "code",
   "execution_count": null,
   "id": "29107650",
   "metadata": {},
   "outputs": [],
   "source": []
  },
  {
   "cell_type": "code",
   "execution_count": null,
   "id": "9547dc4b",
   "metadata": {},
   "outputs": [],
   "source": []
  },
  {
   "cell_type": "markdown",
   "id": "c10841a1",
   "metadata": {},
   "source": [
    "#### Feature Engineering"
   ]
  },
  {
   "cell_type": "code",
   "execution_count": 8,
   "id": "7d869f92",
   "metadata": {},
   "outputs": [],
   "source": [
    "x_features=['Fixed telephone subscriptions','Urban population', 'Rural population','Population ages 65 and above, male','Population ages 65 and above, female', 'Population ages 15-64, female','Population ages 15-64, male', 'Population ages 0-14, male', 'Population ages 0-14, female','Agriculture, forestry, and fishing, value added (current US$)','Industry (including construction), value added (current US$)','Manufacturing, value added (current US$)','Services, value added (current US$)','Mobile cellular subscriptions','Fixed broadband subscriptions']"
   ]
  },
  {
   "cell_type": "code",
   "execution_count": 9,
   "id": "1a2ed130",
   "metadata": {},
   "outputs": [],
   "source": [
    "y_feature='Ln_Y'"
   ]
  },
  {
   "cell_type": "code",
   "execution_count": 10,
   "id": "f3f17ec5",
   "metadata": {},
   "outputs": [
    {
     "name": "stdout",
     "output_type": "stream",
     "text": [
      "                                             Features  Importance\n",
      "0                       Fixed telephone subscriptions    0.417255\n",
      "12                Services, value added (current US$)    0.096480\n",
      "11           Manufacturing, value added (current US$)    0.071058\n",
      "3                  Population ages 65 and above, male    0.050417\n",
      "10  Industry (including construction), value added...    0.043101\n",
      "13                      Mobile cellular subscriptions    0.042799\n",
      "4                Population ages 65 and above, female    0.042454\n",
      "2                                    Rural population    0.037112\n",
      "14                      Fixed broadband subscriptions    0.035821\n",
      "7                          Population ages 0-14, male    0.032120\n",
      "6                         Population ages 15-64, male    0.030751\n",
      "5                       Population ages 15-64, female    0.027554\n",
      "1                                    Urban population    0.026896\n",
      "8                        Population ages 0-14, female    0.025543\n",
      "9   Agriculture, forestry, and fishing, value adde...    0.020643\n"
     ]
    }
   ],
   "source": [
    "# Feature Engineering - Selecting Top 4 Features\n",
    "xgb_fe_mod=XGBRegressor(random_state=12345)\n",
    "xgb_fe_mod.fit(final_df[x_features],final_df[y_feature])\n",
    "fe_df=pd.concat([pd.Series(x_features),pd.Series(xgb_fe_mod.feature_importances_)],axis=1)\n",
    "fe_df.columns=['Features','Importance']\n",
    "print(fe_df.sort_values('Importance',ascending=False))"
   ]
  },
  {
   "cell_type": "code",
   "execution_count": 25,
   "id": "46812699",
   "metadata": {},
   "outputs": [
    {
     "data": {
      "text/plain": [
       "['Fixed telephone subscriptions',\n",
       " 'Services, value added (current US$)',\n",
       " 'Manufacturing, value added (current US$)']"
      ]
     },
     "execution_count": 25,
     "metadata": {},
     "output_type": "execute_result"
    }
   ],
   "source": [
    "features_list=list(fe_df.sort_values('Importance',ascending=False).head(3)['Features'])\n",
    "features_list"
   ]
  },
  {
   "cell_type": "code",
   "execution_count": null,
   "id": "35d95b5c",
   "metadata": {},
   "outputs": [],
   "source": []
  },
  {
   "cell_type": "code",
   "execution_count": null,
   "id": "e682a747",
   "metadata": {},
   "outputs": [],
   "source": []
  },
  {
   "cell_type": "markdown",
   "id": "9bea8d56",
   "metadata": {},
   "source": [
    "#### Train Test Split"
   ]
  },
  {
   "cell_type": "code",
   "execution_count": 26,
   "id": "3a07e8cb",
   "metadata": {},
   "outputs": [],
   "source": [
    "train_X,test_X,train_Y,test_Y=train_test_split(final_df[features_list],final_df[['Ln_Y','Air transport, registered carrier departures worldwide']],test_size=0.3,random_state=42)"
   ]
  },
  {
   "cell_type": "code",
   "execution_count": null,
   "id": "faf79f2e",
   "metadata": {},
   "outputs": [],
   "source": []
  },
  {
   "cell_type": "code",
   "execution_count": null,
   "id": "6d412f5b",
   "metadata": {},
   "outputs": [],
   "source": []
  },
  {
   "cell_type": "markdown",
   "id": "d2c44b82",
   "metadata": {},
   "source": [
    "#### Model Building"
   ]
  },
  {
   "cell_type": "code",
   "execution_count": 27,
   "id": "5ca9ba7c",
   "metadata": {},
   "outputs": [],
   "source": [
    "# XGBoost\n",
    "xgb_param_list=[{'n_estimators':[10,30,50],'subsample':[0.8],'learning_rate':[0.001,0.01,0.1]}]\n",
    "xgb_mod_cv=GridSearchCV(XGBRegressor(random_state=38),xgb_param_list,cv=5,verbose=0,n_jobs=-1,scoring='neg_mean_squared_error')\n",
    "xgb_mod_cv.fit(train_X,train_Y['Ln_Y'])\n",
    "xgb_mod=xgb_mod_cv.best_estimator_"
   ]
  },
  {
   "cell_type": "code",
   "execution_count": 28,
   "id": "87c13848",
   "metadata": {},
   "outputs": [
    {
     "name": "stdout",
     "output_type": "stream",
     "text": [
      "MAPE:  0.5805194839173112\n",
      "MAPE:  0.5860357290690721\n"
     ]
    }
   ],
   "source": [
    "print('MAPE: ',metrics.mean_absolute_percentage_error(np.exp(xgb_mod.predict(train_X)+1),train_Y['Air transport, registered carrier departures worldwide']))\n",
    "print('MAPE: ',metrics.mean_absolute_percentage_error(np.exp(xgb_mod.predict(test_X)+1),test_Y['Air transport, registered carrier departures worldwide']))"
   ]
  },
  {
   "cell_type": "code",
   "execution_count": null,
   "id": "75f43eb8",
   "metadata": {},
   "outputs": [],
   "source": []
  },
  {
   "cell_type": "code",
   "execution_count": null,
   "id": "2c54a1fb",
   "metadata": {},
   "outputs": [],
   "source": []
  },
  {
   "cell_type": "code",
   "execution_count": 29,
   "id": "a61655fa",
   "metadata": {},
   "outputs": [
    {
     "data": {
      "text/plain": [
       "<catboost.core.CatBoostRegressor at 0x110f589f340>"
      ]
     },
     "execution_count": 29,
     "metadata": {},
     "output_type": "execute_result"
    }
   ],
   "source": [
    "# CatBoost\n",
    "cb_mod=CatBoostRegressor(random_state=12345,verbose=0)\n",
    "cb_mod.fit(train_X,train_Y['Ln_Y'],eval_set=(test_X,test_Y['Ln_Y']),early_stopping_rounds=10)"
   ]
  },
  {
   "cell_type": "code",
   "execution_count": 30,
   "id": "13d53261",
   "metadata": {},
   "outputs": [
    {
     "name": "stdout",
     "output_type": "stream",
     "text": [
      "MAPE:  0.598505595388965\n",
      "MAPE:  0.6080676100151912\n"
     ]
    }
   ],
   "source": [
    "print('MAPE: ',metrics.mean_absolute_percentage_error(np.exp(cb_mod.predict(train_X)+1),train_Y['Air transport, registered carrier departures worldwide']))\n",
    "print('MAPE: ',metrics.mean_absolute_percentage_error(np.exp(cb_mod.predict(test_X)+1),test_Y['Air transport, registered carrier departures worldwide']))"
   ]
  },
  {
   "cell_type": "code",
   "execution_count": null,
   "id": "80263ed7",
   "metadata": {},
   "outputs": [],
   "source": []
  },
  {
   "cell_type": "code",
   "execution_count": 31,
   "id": "c4251670",
   "metadata": {},
   "outputs": [],
   "source": [
    "# LightGBM\n",
    "X_train_cp = train_X.copy()\n",
    "X_train_cp = X_train_cp.rename(columns = lambda x:re.sub('[^A-Za-z0-9_]+', '', x))\n",
    "lgb_param_list=[{'n_estimators':[10,30,50],'subsample':[0.8],'learning_rate':[0.001,0.01,0.1]}]\n",
    "lgb_mod_cv=GridSearchCV(LGBMRegressor(random_state=38),lgb_param_list,cv=5,verbose=0,n_jobs=-1,scoring='neg_mean_squared_error')\n",
    "lgb_mod_cv.fit(X_train_cp,train_Y['Ln_Y'])\n",
    "lgb_mod=lgb_mod_cv.best_estimator_"
   ]
  },
  {
   "cell_type": "code",
   "execution_count": 32,
   "id": "9ea98d7c",
   "metadata": {},
   "outputs": [
    {
     "name": "stdout",
     "output_type": "stream",
     "text": [
      "MAPE:  0.5913122651070295\n",
      "MAPE:  0.6005407254480666\n"
     ]
    }
   ],
   "source": [
    "X_test_cp = test_X.copy()\n",
    "X_test_cp = X_test_cp.rename(columns = lambda x:re.sub('[^A-Za-z0-9_]+', '', x))\n",
    "print('MAPE: ',metrics.mean_absolute_percentage_error(np.exp(lgb_mod.predict(X_train_cp)+1),train_Y['Air transport, registered carrier departures worldwide']))\n",
    "print('MAPE: ',metrics.mean_absolute_percentage_error(np.exp(lgb_mod.predict(X_test_cp)+1),test_Y['Air transport, registered carrier departures worldwide']))"
   ]
  },
  {
   "cell_type": "code",
   "execution_count": null,
   "id": "feabdb58",
   "metadata": {},
   "outputs": [],
   "source": []
  },
  {
   "cell_type": "code",
   "execution_count": null,
   "id": "602b2f92",
   "metadata": {},
   "outputs": [],
   "source": []
  },
  {
   "cell_type": "markdown",
   "id": "5b54132e",
   "metadata": {},
   "source": [
    "#### Saving the model"
   ]
  },
  {
   "cell_type": "code",
   "execution_count": 38,
   "id": "0373c959",
   "metadata": {},
   "outputs": [],
   "source": [
    "# Saving the machine learning model as pickle file\n",
    "pickle.dump(xgb_mod, open('final_model_rr.pkl', 'wb'))\n",
    "# xgb_mod = pickle.load(open('final_model_rr', 'rb'))"
   ]
  },
  {
   "cell_type": "code",
   "execution_count": null,
   "id": "ec2bc0b3",
   "metadata": {},
   "outputs": [],
   "source": []
  },
  {
   "cell_type": "code",
   "execution_count": null,
   "id": "918273d9",
   "metadata": {},
   "outputs": [],
   "source": []
  }
 ],
 "metadata": {
  "kernelspec": {
   "display_name": "Python 3 (ipykernel)",
   "language": "python",
   "name": "python3"
  },
  "language_info": {
   "codemirror_mode": {
    "name": "ipython",
    "version": 3
   },
   "file_extension": ".py",
   "mimetype": "text/x-python",
   "name": "python",
   "nbconvert_exporter": "python",
   "pygments_lexer": "ipython3",
   "version": "3.9.7"
  }
 },
 "nbformat": 4,
 "nbformat_minor": 5
}
